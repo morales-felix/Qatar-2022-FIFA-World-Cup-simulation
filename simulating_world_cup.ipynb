{
 "cells": [
  {
   "cell_type": "markdown",
   "metadata": {},
   "source": [
    "As a soccer fan, this project was both fun and a step towards a future personal project. The real reason for this simulation was a World Cup bracket challenge with my coworkers. Was I the only one who did this? Did I win? Read on 😉\n",
    "\n",
    "This simulation uses Elo ratings from <https://eloratings.net> to measure team strength and update it after each simulated game. The Elo implementation is based on FiveThirtyEight’s NFL forecasting game (<https://github.com/morales-felix/nfl-elo-game>).\n",
    "\n",
    "Notes on Elo implementation:  \n",
    "\n",
    "- Per <https://eloratings.net/about>, the K constant is set to 60 as this is a World Cup competition.  \n",
    "- Probabilities given by the Elo rating system are binary. I came up with a workaround to convert them to ternary probabilities given that association football (a.k.a. soccer) admits three outcomes after a match (win, tie, lose).  \n",
    "- I did not simulate scorelines. Rather, I simply used probabilities to decide whether a team would win, tie, or lose. As such, I did not use the goal difference multiplier specified in <https://eloratings.net/about>  \n",
    "- I'll be happy to talk about the workaround, but I wouldn't take it as gospel. There might be ways to do this, but I did not research it. Wanted to have fun, not produce an academic-paper-worthy method, nor a sellable product.  \n",
    "- In the end, results aren't that different from other more publicized methods. Brazil is a strong team... always."
   ]
  },
  {
   "cell_type": "code",
   "execution_count": null,
   "metadata": {},
   "outputs": [],
   "source": [
    "import pandas as pd\n",
    "import csv\n",
    "from tqdm import tqdm\n",
    "\n",
    "from src.world_cup_simulator import *"
   ]
  },
  {
   "cell_type": "markdown",
   "metadata": {},
   "source": [
    "Since I want to simulate the group stage many times to generate a distribution of outcomes, I will use the `joblib` module to parallelize the simulation. This will allow me to run the simulation many times in a reasonable amount of time. That requires me to use a function to simulate the group stage and return the results."
   ]
  },
  {
   "cell_type": "code",
   "execution_count": null,
   "metadata": {},
   "outputs": [],
   "source": [
    "def run_group_stage_simulation(n, j):\n",
    "    \"\"\"\n",
    "    Run a simulation of the group stage of the World Cup\n",
    "    \"\"\"\n",
    "    \n",
    "    teams_pd = pd.read_csv(\"data/roster.csv\")\n",
    "    \n",
    "    for i in range(n):\n",
    "        games = read_games(\"data/matches.csv\")\n",
    "        teams = {}\n",
    "    \n",
    "        for row in [\n",
    "            item for item in csv.DictReader(open(\"data/roster.csv\"))\n",
    "            ]:\n",
    "            teams[row['team']] = {\n",
    "                'name': row['team'],\n",
    "                'rating': float(row['rating']),\n",
    "                'points': 0\n",
    "                }\n",
    "    \n",
    "        simulate_group_stage(\n",
    "            games,\n",
    "            teams,\n",
    "            ternary=True\n",
    "            )\n",
    "    \n",
    "        collector = []\n",
    "        for key in teams.keys():\n",
    "            collector.append(\n",
    "                {\"team\": key,\n",
    "                 f\"simulation{i+1}\": teams[key]['points']}\n",
    "            )\n",
    "\n",
    "        temp = pd.DataFrame(collector)\n",
    "        teams_pd = pd.merge(teams_pd, temp)\n",
    "    \n",
    "    sim_cols = [\n",
    "        a for a in teams_pd.columns if \"simulation\" in a]\n",
    "    teams_pd[\n",
    "        f\"avg_pts_{j+1}\"\n",
    "        ] = teams_pd[sim_cols].mean(axis=1)\n",
    "    not_sim = [\n",
    "        b for b in teams_pd.columns if \"simulation\" not in b]\n",
    "    simulation_result = teams_pd[not_sim]\n",
    "    \n",
    "    return simulation_result"
   ]
  },
  {
   "cell_type": "markdown",
   "metadata": {},
   "source": [
    "### Simulate group stage"
   ]
  },
  {
   "cell_type": "markdown",
   "metadata": {},
   "source": [
    "#### The gist is to read from two files: One defining the match schedule, the other with teams and their relative strengths (given by Elo ratings prior to the start of the event)"
   ]
  },
  {
   "cell_type": "code",
   "execution_count": null,
   "metadata": {},
   "outputs": [],
   "source": [
    "# Reads in the matches and teams as dictionaries and proceeds with that data type\n",
    "n = 100 # How many simulations to run\n",
    "m = 100 # How many simulation results to collect\n",
    "from joblib import Parallel, delayed\n",
    "\n",
    "roster_pd = Parallel(n_jobs=5)(\n",
    "    delayed(run_group_stage_simulation)(\n",
    "        n, j) for j in tqdm(range(m)))\n",
    "\n",
    "for t in tqdm(range(m)):\n",
    "    if t == 0:\n",
    "        roster = pd.merge(\n",
    "            roster_pd[t],\n",
    "            roster_pd[t+1]\n",
    "            )\n",
    "    elif t >= 2:\n",
    "        roster = pd.merge(\n",
    "            roster,\n",
    "            roster_pd[t]\n",
    "            )\n",
    "    else:\n",
    "        pass"
   ]
  },
  {
   "cell_type": "code",
   "execution_count": null,
   "metadata": {},
   "outputs": [],
   "source": [
    "sim_cols = [i for i in roster.columns if \"avg_pts\" in i]"
   ]
  },
  {
   "cell_type": "code",
   "execution_count": null,
   "metadata": {},
   "outputs": [],
   "source": [
    "roster['avg_sim_pts'] = roster[sim_cols].mean(axis=1)\n",
    "roster['99%CI_low'] = roster[sim_cols] \\\n",
    "    .quantile(q=0.005, axis=1)\n",
    "roster['99%CI_high'] = roster[sim_cols] \\\n",
    "    .quantile(q=0.995, axis=1)"
   ]
  },
  {
   "cell_type": "code",
   "execution_count": null,
   "metadata": {},
   "outputs": [],
   "source": [
    "not_sim = [\n",
    "    j for j in roster.columns if \"avg_pts\" not in j]"
   ]
  },
  {
   "cell_type": "markdown",
   "metadata": {},
   "source": [
    "#### Simulation is done, now take a look at the results for the group stage"
   ]
  },
  {
   "cell_type": "code",
   "execution_count": null,
   "metadata": {},
   "outputs": [],
   "source": [
    "roster[not_sim].sort_values(\n",
    "    by=[\n",
    "        'group',\n",
    "        'avg_sim_pts'\n",
    "        ],\n",
    "    ascending=False\n",
    "    )"
   ]
  },
  {
   "cell_type": "markdown",
   "metadata": {},
   "source": [
    "You can see that:  \n",
    "- Group A was a bit of a disappointment for me, as Ecuador and Senegal ended up flipping places. I expected more from Ecuador considering the 99% confidence interval for the points they would get.  \n",
    "- Group B was a very uncertain group, given how tight the lower three teams end up in the simulation. This corresponded with reality, as the group was decided on the last match date, with the United States ultimately ending second place.  \n",
    "- Group C happened exactly as I expected.  \n",
    "- Group D was a surprise with Denmark and Australia flipping places.  \n",
    "- Group E and F were a disaster in the prediction department...  But great thing that Morocco served as the surprise team in this World Cup.\n",
    "- Nailed who qualified on Group G, but the bottom two teams flipped places. This was expected since their 99% confidence intervals overlap.\n",
    "- We can conclude the same with Group H: Portugal definitely qualified, but the second place was a flip between South Korea and Uruguay. This flip was expected given the 99% confidence intervals overlap. They even tied on points and goal difference in real life, only separating due to South Korea scoring two more goals than Uruguay.\n"
   ]
  },
  {
   "cell_type": "markdown",
   "metadata": {},
   "source": [
    "### Simulating knockout stage  \n",
    "Here's where it gets interesting"
   ]
  },
  {
   "cell_type": "code",
   "execution_count": null,
   "metadata": {},
   "outputs": [],
   "source": [
    "# Now, doing the Monte Carlo simulations\n",
    "n = 10000\n",
    "playoff_results_teams = []\n",
    "playoff_results_stage = []\n",
    "\n",
    "for i in tqdm(range(n)):\n",
    "    overall_result_teams = dict()\n",
    "    overall_result_stage = dict()\n",
    "    games = read_games(\"data/playoff_matches.csv\")\n",
    "    teams = {}\n",
    "    \n",
    "    for row in [\n",
    "        item for item in csv.DictReader(open(\"data/playoff_roster.csv\"))]:\n",
    "        teams[row['team']] = {\n",
    "            'name': row['team'],\n",
    "            'rating': float(row['rating'])\n",
    "            }\n",
    "    \n",
    "    simulate_playoffs(games, teams, ternary=True)\n",
    "    \n",
    "    playoff_pd = pd.DataFrame(games)\n",
    "    \n",
    "    # This is for collecting results of simulations per team\n",
    "    for key in teams.keys():\n",
    "        overall_result_teams[key] = collect_playoff_results(\n",
    "            key,\n",
    "            playoff_pd\n",
    "            )\n",
    "    playoff_results_teams.append(overall_result_teams)\n",
    "    \n",
    "    # Now, collecting results from stage-perspective\n",
    "    overall_result_stage['whole_bracket'] = playoff_pd['advances'].to_list()\n",
    "    overall_result_stage['Quarterfinals'] = playoff_pd.loc[playoff_pd['stage'] == 'eigths_finals', 'advances'].to_list()\n",
    "    overall_result_stage['Semifinals'] = playoff_pd.loc[playoff_pd['stage'] == 'quarterfinals', 'advances'].to_list()\n",
    "    overall_result_stage['Final'] = playoff_pd.loc[playoff_pd['stage'] == 'semifinals', 'advances'].to_list()\n",
    "    overall_result_stage['third_place_match'] = playoff_pd.loc[playoff_pd['stage'] == 'semifinals', 'loses'].to_list()\n",
    "    overall_result_stage['fourth_place'] = playoff_pd.loc[playoff_pd['stage'] == 'third_place', 'loses'].to_list()[0]\n",
    "    overall_result_stage['third_place'] = playoff_pd.loc[playoff_pd['stage'] == 'third_place', 'advances'].to_list()[0]\n",
    "    overall_result_stage['second_place'] = playoff_pd.loc[playoff_pd['stage'] == 'final', 'loses'].to_list()[0]\n",
    "    overall_result_stage['Champion'] = playoff_pd.loc[playoff_pd['stage'] == 'final', 'advances'].to_list()[0]\n",
    "    overall_result_stage['match8'] = list(playoff_pd.loc[8, ['home_team', 'away_team']])\n",
    "    overall_result_stage['match9'] = list(playoff_pd.loc[9, ['home_team', 'away_team']])\n",
    "    overall_result_stage['match10'] = list(playoff_pd.loc[10, ['home_team', 'away_team']])\n",
    "    overall_result_stage['match11'] = list(playoff_pd.loc[11, ['home_team', 'away_team']])\n",
    "    overall_result_stage['match12'] = list(playoff_pd.loc[12, ['home_team', 'away_team']])\n",
    "    overall_result_stage['match13'] = list(playoff_pd.loc[13, ['home_team', 'away_team']])\n",
    "    overall_result_stage['match14'] = list(playoff_pd.loc[14, ['home_team', 'away_team']])\n",
    "    overall_result_stage['match15'] = list(playoff_pd.loc[15, ['home_team', 'away_team']])\n",
    "    \n",
    "    playoff_results_stage.append(overall_result_stage)"
   ]
  },
  {
   "cell_type": "code",
   "execution_count": null,
   "metadata": {},
   "outputs": [],
   "source": [
    "results_teams = pd.DataFrame(playoff_results_teams)"
   ]
  },
  {
   "cell_type": "code",
   "execution_count": null,
   "metadata": {},
   "outputs": [],
   "source": [
    "results_teams['Argentina'].value_counts()"
   ]
  },
  {
   "cell_type": "code",
   "execution_count": null,
   "metadata": {},
   "outputs": [],
   "source": [
    "results_stage = pd.DataFrame(playoff_results_stage)"
   ]
  },
  {
   "cell_type": "code",
   "execution_count": null,
   "metadata": {},
   "outputs": [],
   "source": [
    "results_stage['Champion'].value_counts()"
   ]
  },
  {
   "cell_type": "markdown",
   "metadata": {},
   "source": [
    "LEARNINGS:  My simulations were predicting that Argentina was the team most likely to win the World Cup right at the end of the group stage/start of the knockout stage. But it so happens that I root for Argentina since my pre-teen years, and I've been conditioned to so much disappointment that I just couldn't bring myself to believe Argentina could win this World Cup. Especially after that defeat against Saudi Arabia. So I ended up not following these results when filling out my bracket...  \n",
    "Needless to say, seeing Argentina winning was one of the happiest moments in my life.  \n",
    "BUT I SHOULD HAVE PUT MY MONEY WHERE MY SIMULATIONS WERE AND GET SOME BRAGGING POINTS TOO!!!\n",
    "😭"
   ]
  }
 ],
 "metadata": {
  "kernelspec": {
   "display_name": "Python 3 (ipykernel)",
   "language": "python",
   "name": "python3"
  },
  "language_info": {
   "codemirror_mode": {
    "name": "ipython",
    "version": 3
   },
   "file_extension": ".py",
   "mimetype": "text/x-python",
   "name": "python",
   "nbconvert_exporter": "python",
   "pygments_lexer": "ipython3",
   "version": "3.10.14"
  },
  "vscode": {
   "interpreter": {
    "hash": "bf6434c5a1aa7c8e434dd054297a02391e6efb1cc4c519f6d78eae818bb65a96"
   }
  }
 },
 "nbformat": 4,
 "nbformat_minor": 2
}
