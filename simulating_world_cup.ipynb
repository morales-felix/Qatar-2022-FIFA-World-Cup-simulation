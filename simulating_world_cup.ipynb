{
 "cells": [
  {
   "cell_type": "code",
   "execution_count": 1,
   "metadata": {},
   "outputs": [],
   "source": [
    "import numpy as np\n",
    "import pandas as pd\n",
    "import csv\n",
    "from tqdm import tqdm\n",
    "from joblib import Parallel, delayed\n",
    "\n",
    "from src.world_cup_simulator import *"
   ]
  },
  {
   "cell_type": "code",
   "execution_count": 2,
   "metadata": {},
   "outputs": [],
   "source": [
    "def run_group_stage_simulation(n, j):\n",
    "    teams_pd = pd.read_csv(\"data/roster.csv\")\n",
    "    \n",
    "    for i in range(n):\n",
    "        games = read_games(\"data/matches.csv\")\n",
    "        teams = {}\n",
    "    \n",
    "        for row in [item for item in csv.DictReader(open(\"data/roster.csv\"))]:\n",
    "            teams[row['team']] = {'name': row['team'], 'rating': float(row['rating']), 'points': 0}\n",
    "    \n",
    "        simulate_group_stage(games, teams, ternary=True)\n",
    "    \n",
    "        collector = []\n",
    "        for key in teams.keys():\n",
    "            collector.append({\"team\": key, f\"simulation{i+1}\": teams[key]['points']})\n",
    "\n",
    "        temp = pd.DataFrame(collector)\n",
    "        teams_pd = pd.merge(teams_pd, temp)\n",
    "    \n",
    "    sim_cols = [a for a in teams_pd.columns if \"simulation\" in a]\n",
    "    teams_pd[f\"avg_pts_{j+1}\"] = teams_pd[sim_cols].mean(axis=1)\n",
    "    not_sim = [b for b in teams_pd.columns if \"simulation\" not in b]\n",
    "    simulation_result = teams_pd[not_sim]\n",
    "    \n",
    "    return simulation_result"
   ]
  },
  {
   "cell_type": "markdown",
   "metadata": {},
   "source": [
    "### Simulate group stage"
   ]
  },
  {
   "cell_type": "markdown",
   "metadata": {},
   "source": [
    "#### The gist is to read from two files: One defining the match schedule, the other with teams and their relative strengths (given by Elo ratings prior to the start of the event)"
   ]
  },
  {
   "cell_type": "code",
   "execution_count": 3,
   "metadata": {},
   "outputs": [
    {
     "name": "stderr",
     "output_type": "stream",
     "text": [
      "100%|██████████| 10/10 [00:03<00:00,  2.85it/s]\n",
      "100%|██████████| 10/10 [00:00<00:00, 410.79it/s]\n"
     ]
    }
   ],
   "source": [
    "# Reads in the matches and teams as dictionaries and proceeds with that data type\n",
    "n = 100 # How many simulations to run\n",
    "m = 10 # How many simulation results to collect\n",
    "\n",
    "roster_pd = Parallel(n_jobs=5)(delayed(run_group_stage_simulation)(n, j) for j in tqdm(range(m)))\n",
    "\n",
    "for t in tqdm(range(m)):\n",
    "    if t == 0:\n",
    "        roster = pd.merge(roster_pd[t], roster_pd[t+1])\n",
    "    elif t >= 2:\n",
    "        roster = pd.merge(roster, roster_pd[t])\n",
    "    else:\n",
    "        pass"
   ]
  },
  {
   "cell_type": "code",
   "execution_count": null,
   "metadata": {},
   "outputs": [],
   "source": [
    "sim_cols = [i for i in roster.columns if \"avg_pts\" in i]"
   ]
  },
  {
   "cell_type": "code",
   "execution_count": null,
   "metadata": {},
   "outputs": [],
   "source": [
    "roster['avg_sim_pts'] = roster[sim_cols].mean(axis=1)\n",
    "roster['99%CI_low'] = roster[sim_cols].quantile(q=0.005, axis=1)\n",
    "roster['99%CI_high'] = roster[sim_cols].quantile(q=0.995, axis=1)"
   ]
  },
  {
   "cell_type": "code",
   "execution_count": null,
   "metadata": {},
   "outputs": [],
   "source": [
    "not_sim = [j for j in roster.columns if \"avg_pts\" not in j]"
   ]
  },
  {
   "cell_type": "code",
   "execution_count": null,
   "metadata": {},
   "outputs": [],
   "source": [
    "roster[not_sim].sort_values(by=['group', 'avg_sim_pts'], ascending=False)"
   ]
  },
  {
   "cell_type": "markdown",
   "metadata": {},
   "source": [
    "### Simulating playoffs"
   ]
  },
  {
   "cell_type": "code",
   "execution_count": 2,
   "metadata": {},
   "outputs": [],
   "source": [
    "playoff_games_pd = pd.read_csv(\"data/playoff_matches1.csv\")\n",
    "playoff_teams_pd = pd.read_csv(\"data/playoff_roster1.csv\")"
   ]
  },
  {
   "cell_type": "code",
   "execution_count": 7,
   "metadata": {},
   "outputs": [
    {
     "name": "stderr",
     "output_type": "stream",
     "text": [
      "100%|██████████| 10000/10000 [02:52<00:00, 58.08it/s]\n"
     ]
    }
   ],
   "source": [
    "# Now, doing the Monte Carlo simulations\n",
    "n = 10\n",
    "m = 10000\n",
    "fraction_collect = []\n",
    "\n",
    "for k in tqdm(range(m)):\n",
    "    \n",
    "    playoff_results_teams = []\n",
    "    playoff_results_stage = []\n",
    "    \n",
    "    for i in range(n):\n",
    "        overall_result_teams = dict()\n",
    "        overall_result_stage = dict()\n",
    "        games = read_games(\"data/playoff_matches1.csv\")\n",
    "        teams = {}\n",
    "    \n",
    "        for row in [item for item in csv.DictReader(open(\"data/playoff_roster1.csv\"))]:\n",
    "            teams[row['team']] = {'name': row['team'], 'rating': float(row['rating'])}\n",
    "    \n",
    "        simulate_playoffs(games, teams, ternary=True)\n",
    "    \n",
    "        playoff_pd = pd.DataFrame(games)\n",
    "    \n",
    "        # # This is for collecting results of simulations per team\n",
    "        # for key in teams.keys():\n",
    "        #     overall_result_teams[key] = collect_playoff_results(key, playoff_pd)\n",
    "        # playoff_results_teams.append(overall_result_teams)\n",
    "    \n",
    "        # # Now, collecting results from stage-perspective\n",
    "        # overall_result_stage['whole_bracket'] = playoff_pd['advances'].to_list()\n",
    "        # overall_result_stage['Quarterfinals'] = playoff_pd.loc[playoff_pd['stage'] == 'eigths_finals', 'advances'].to_list()\n",
    "        # overall_result_stage['Semifinals'] = playoff_pd.loc[playoff_pd['stage'] == 'quarterfinals', 'advances'].to_list()\n",
    "        # overall_result_stage['Final'] = playoff_pd.loc[playoff_pd['stage'] == 'semifinals', 'advances'].to_list()\n",
    "        # overall_result_stage['third_place_match'] = playoff_pd.loc[playoff_pd['stage'] == 'semifinals', 'loses'].to_list()\n",
    "        overall_result_stage['fourth_place'] = playoff_pd.loc[playoff_pd['stage'] == 'third_place', 'loses'].to_list()[0]\n",
    "        overall_result_stage['third_place'] = playoff_pd.loc[playoff_pd['stage'] == 'third_place', 'advances'].to_list()[0]\n",
    "        overall_result_stage['second_place'] = playoff_pd.loc[playoff_pd['stage'] == 'final', 'loses'].to_list()[0]\n",
    "        overall_result_stage['Champion'] = playoff_pd.loc[playoff_pd['stage'] == 'final', 'advances'].to_list()[0]\n",
    "        # overall_result_stage['match8'] = list(playoff_pd.loc[8, ['home_team', 'away_team']])\n",
    "        # overall_result_stage['match9'] = list(playoff_pd.loc[9, ['home_team', 'away_team']])\n",
    "        # overall_result_stage['match10'] = list(playoff_pd.loc[10, ['home_team', 'away_team']])\n",
    "        # overall_result_stage['match11'] = list(playoff_pd.loc[11, ['home_team', 'away_team']])\n",
    "        # overall_result_stage['match12'] = list(playoff_pd.loc[12, ['home_team', 'away_team']])\n",
    "        # overall_result_stage['match13'] = list(playoff_pd.loc[13, ['home_team', 'away_team']])\n",
    "        # overall_result_stage['match14'] = list(playoff_pd.loc[14, ['home_team', 'away_team']])\n",
    "        # overall_result_stage['match15'] = list(playoff_pd.loc[15, ['home_team', 'away_team']])\n",
    "    \n",
    "        playoff_results_stage.append(overall_result_stage)\n",
    "        \n",
    "    results_stage = pd.DataFrame(playoff_results_stage)\n",
    "    fraction_collect.append(results_stage['Champion'].value_counts(normalize=True)[0])"
   ]
  },
  {
   "cell_type": "code",
   "execution_count": 8,
   "metadata": {},
   "outputs": [
    {
     "data": {
      "text/plain": [
       "(0.65086, array([0.5, 0.6, 1. ]))"
      ]
     },
     "execution_count": 8,
     "metadata": {},
     "output_type": "execute_result"
    }
   ],
   "source": [
    "np.mean(fraction_collect), np.percentile(fraction_collect, [0.5, 50,  99.5])"
   ]
  },
  {
   "cell_type": "code",
   "execution_count": 9,
   "metadata": {},
   "outputs": [
    {
     "data": {
      "text/plain": [
       "(array([1922.,    0., 3574.,    0., 2588.,    0., 1397.,    0.,  450.,\n",
       "          69.]),\n",
       " array([0.5 , 0.55, 0.6 , 0.65, 0.7 , 0.75, 0.8 , 0.85, 0.9 , 0.95, 1.  ]),\n",
       " <BarContainer object of 10 artists>)"
      ]
     },
     "execution_count": 9,
     "metadata": {},
     "output_type": "execute_result"
    },
    {
     "data": {
      "image/png": "[encoded data removed]",
      "text/plain": [
       "<Figure size 432x288 with 1 Axes>"
      ]
     },
     "metadata": {
      "needs_background": "light"
     },
     "output_type": "display_data"
    }
   ],
   "source": [
    "import matplotlib.pyplot as plt\n",
    "plt.hist(fraction_collect)"
   ]
  },
  {
   "cell_type": "code",
   "execution_count": 10,
   "metadata": {},
   "outputs": [],
   "source": [
    "results_teams = pd.DataFrame(playoff_results_teams)"
   ]
  },
  {
   "cell_type": "code",
   "execution_count": 11,
   "metadata": {},
   "outputs": [
    {
     "ename": "KeyError",
     "evalue": "'Argentina'",
     "output_type": "error",
     "traceback": [
      "\u001b[1;31m---------------------------------------------------------------------------\u001b[0m",
      "\u001b[1;31mKeyError\u001b[0m                                  Traceback (most recent call last)",
      "File \u001b[1;32mc:\\Users\\felix\\anaconda3\\lib\\site-packages\\pandas\\core\\indexes\\base.py:3621\u001b[0m, in \u001b[0;36mIndex.get_loc\u001b[1;34m(self, key, method, tolerance)\u001b[0m\n\u001b[0;32m   3620\u001b[0m \u001b[39mtry\u001b[39;00m:\n\u001b[1;32m-> 3621\u001b[0m     \u001b[39mreturn\u001b[39;00m \u001b[39mself\u001b[39;49m\u001b[39m.\u001b[39;49m_engine\u001b[39m.\u001b[39;49mget_loc(casted_key)\n\u001b[0;32m   3622\u001b[0m \u001b[39mexcept\u001b[39;00m \u001b[39mKeyError\u001b[39;00m \u001b[39mas\u001b[39;00m err:\n",
      "File \u001b[1;32mc:\\Users\\felix\\anaconda3\\lib\\site-packages\\pandas\\_libs\\index.pyx:136\u001b[0m, in \u001b[0;36mpandas._libs.index.IndexEngine.get_loc\u001b[1;34m()\u001b[0m\n",
      "File \u001b[1;32mc:\\Users\\felix\\anaconda3\\lib\\site-packages\\pandas\\_libs\\index.pyx:163\u001b[0m, in \u001b[0;36mpandas._libs.index.IndexEngine.get_loc\u001b[1;34m()\u001b[0m\n",
      "File \u001b[1;32mpandas\\_libs\\hashtable_class_helper.pxi:5198\u001b[0m, in \u001b[0;36mpandas._libs.hashtable.PyObjectHashTable.get_item\u001b[1;34m()\u001b[0m\n",
      "File \u001b[1;32mpandas\\_libs\\hashtable_class_helper.pxi:5206\u001b[0m, in \u001b[0;36mpandas._libs.hashtable.PyObjectHashTable.get_item\u001b[1;34m()\u001b[0m\n",
      "\u001b[1;31mKeyError\u001b[0m: 'Argentina'",
      "\nThe above exception was the direct cause of the following exception:\n",
      "\u001b[1;31mKeyError\u001b[0m                                  Traceback (most recent call last)",
      "\u001b[1;32mc:\\Users\\felix\\OneDrive\\Documentos\\Qatar_2022_world_cup_simulation\\simulating_world_cup.ipynb Cell 16\u001b[0m in \u001b[0;36m<cell line: 1>\u001b[1;34m()\u001b[0m\n\u001b[1;32m----> <a href='vscode-notebook-cell:/c%3A/Users/felix/OneDrive/Documentos/Qatar_2022_world_cup_simulation/simulating_world_cup.ipynb#X16sZmlsZQ%3D%3D?line=0'>1</a>\u001b[0m results_teams[\u001b[39m'\u001b[39;49m\u001b[39mArgentina\u001b[39;49m\u001b[39m'\u001b[39;49m]\u001b[39m.\u001b[39mvalue_counts()\n",
      "File \u001b[1;32mc:\\Users\\felix\\anaconda3\\lib\\site-packages\\pandas\\core\\frame.py:3505\u001b[0m, in \u001b[0;36mDataFrame.__getitem__\u001b[1;34m(self, key)\u001b[0m\n\u001b[0;32m   3503\u001b[0m \u001b[39mif\u001b[39;00m \u001b[39mself\u001b[39m\u001b[39m.\u001b[39mcolumns\u001b[39m.\u001b[39mnlevels \u001b[39m>\u001b[39m \u001b[39m1\u001b[39m:\n\u001b[0;32m   3504\u001b[0m     \u001b[39mreturn\u001b[39;00m \u001b[39mself\u001b[39m\u001b[39m.\u001b[39m_getitem_multilevel(key)\n\u001b[1;32m-> 3505\u001b[0m indexer \u001b[39m=\u001b[39m \u001b[39mself\u001b[39;49m\u001b[39m.\u001b[39;49mcolumns\u001b[39m.\u001b[39;49mget_loc(key)\n\u001b[0;32m   3506\u001b[0m \u001b[39mif\u001b[39;00m is_integer(indexer):\n\u001b[0;32m   3507\u001b[0m     indexer \u001b[39m=\u001b[39m [indexer]\n",
      "File \u001b[1;32mc:\\Users\\felix\\anaconda3\\lib\\site-packages\\pandas\\core\\indexes\\base.py:3623\u001b[0m, in \u001b[0;36mIndex.get_loc\u001b[1;34m(self, key, method, tolerance)\u001b[0m\n\u001b[0;32m   3621\u001b[0m     \u001b[39mreturn\u001b[39;00m \u001b[39mself\u001b[39m\u001b[39m.\u001b[39m_engine\u001b[39m.\u001b[39mget_loc(casted_key)\n\u001b[0;32m   3622\u001b[0m \u001b[39mexcept\u001b[39;00m \u001b[39mKeyError\u001b[39;00m \u001b[39mas\u001b[39;00m err:\n\u001b[1;32m-> 3623\u001b[0m     \u001b[39mraise\u001b[39;00m \u001b[39mKeyError\u001b[39;00m(key) \u001b[39mfrom\u001b[39;00m \u001b[39merr\u001b[39;00m\n\u001b[0;32m   3624\u001b[0m \u001b[39mexcept\u001b[39;00m \u001b[39mTypeError\u001b[39;00m:\n\u001b[0;32m   3625\u001b[0m     \u001b[39m# If we have a listlike key, _check_indexing_error will raise\u001b[39;00m\n\u001b[0;32m   3626\u001b[0m     \u001b[39m#  InvalidIndexError. Otherwise we fall through and re-raise\u001b[39;00m\n\u001b[0;32m   3627\u001b[0m     \u001b[39m#  the TypeError.\u001b[39;00m\n\u001b[0;32m   3628\u001b[0m     \u001b[39mself\u001b[39m\u001b[39m.\u001b[39m_check_indexing_error(key)\n",
      "\u001b[1;31mKeyError\u001b[0m: 'Argentina'"
     ]
    }
   ],
   "source": [
    "results_teams['Argentina'].value_counts()"
   ]
  },
  {
   "cell_type": "code",
   "execution_count": null,
   "metadata": {},
   "outputs": [],
   "source": [
    "results_stage = pd.DataFrame(playoff_results_stage)"
   ]
  },
  {
   "cell_type": "code",
   "execution_count": null,
   "metadata": {},
   "outputs": [],
   "source": [
    "results_stage['Champion'].value_counts(normalize=True)[0]"
   ]
  },
  {
   "cell_type": "code",
   "execution_count": null,
   "metadata": {},
   "outputs": [],
   "source": [
    "results_stage['Champion']"
   ]
  }
 ],
 "metadata": {
  "kernelspec": {
   "display_name": "Python 3 (ipykernel)",
   "language": "python",
   "name": "python3"
  },
  "language_info": {
   "codemirror_mode": {
    "name": "ipython",
    "version": 3
   },
   "file_extension": ".py",
   "mimetype": "text/x-python",
   "name": "python",
   "nbconvert_exporter": "python",
   "pygments_lexer": "ipython3",
   "version": "3.9.12 (main, Apr  4 2022, 05:22:27) [MSC v.1916 64 bit (AMD64)]"
  },
  "vscode": {
   "interpreter": {
    "hash": "bf6434c5a1aa7c8e434dd054297a02391e6efb1cc4c519f6d78eae818bb65a96"
   }
  }
 },
 "nbformat": 4,
 "nbformat_minor": 2
}
