{
 "cells": [
  {
   "cell_type": "markdown",
   "metadata": {},
   "source": [
    "Needless to say, I am a soccer fan (not too crazy though... As I continue to live on this Earth, I realize that fandom isn't a static thing). So this was a fun project which also helped me to start developing code for future personal project of mine. Full disclosure: One big motivation to do this was a World Cup bracket challenge that I played with my coworkers. As far as I can tell, I was the only one who did this sort of thing. Did I win the bracket? Read on 😉\n",
    "\n",
    "This simulation is heavily based upon Elo ratings found on <https://eloratings.net> as a measure of relative team strength and to update this team strength measure every time a simulated game is played.\n",
    "Code to implement the Elo rating system is based on FiveThirtyEight's NFL forecasting game (<https://github.com/morales-felix/nfl-elo-game>).\n",
    "\n",
    "Notes on Elo implementation:  \n",
    "\n",
    "- Per <https://eloratings.net/about>, the K constant is set to 60 as this is a World Cup competition.  \n",
    "- Probabilities given by the Elo rating system are binary. I came up with a workaround to convert them to ternary probabilities given that association football (a.k.a. soccer) admits three outcomes after a match (win, tie, lose).  \n",
    "- I did not simulate scorelines. Rather, I simply used probabilities to decide whether a team would win, tie, or lose. As such, I did not use the goal difference multiplier specified in <https://eloratings.net/about>  \n",
    "- I'll be happy to talk about the workaround, but I wouldn't take it as gospel. There might be ways to do this, but I did not research it. Wanted to have fun, not produce an academic-paper-worthy method, nor a sellable product.  \n",
    "- In the end, results aren't that different from other more publicized methods. Brazil is a strong team... always."
   ]
  },
  {
   "cell_type": "code",
   "execution_count": null,
   "metadata": {},
   "outputs": [],
   "source": [
    "import numpy as np\n",
    "import pandas as pd\n",
    "import csv\n",
    "from tqdm import tqdm\n",
    "from joblib import Parallel, delayed\n",
    "\n",
    "from src.world_cup_simulator import *"
   ]
  },
  {
   "cell_type": "markdown",
   "metadata": {},
   "source": [
    "Since I want to simulate the group stage many times to generate a distribution of outcomes, I will use the `joblib` module to parallelize the simulation. This will allow me to run the simulation many times in a reasonable amount of time. That requires me to use a function to simulate the group stage and return the results."
   ]
  },
  {
   "cell_type": "code",
   "execution_count": null,
   "metadata": {},
   "outputs": [],
   "source": [
    "def run_group_stage_simulation(n, j):\n",
    "    \"\"\"\n",
    "    Run a simulation of the group stage of the World Cup\n",
    "    \"\"\"\n",
    "    \n",
    "    teams_pd = pd.read_csv(\"data/roster.csv\")\n",
    "    \n",
    "    for i in range(n):\n",
    "        games = read_games(\"data/matches.csv\")\n",
    "        teams = {}\n",
    "    \n",
    "        for row in [item for item in csv.DictReader(open(\"data/roster.csv\"))]:\n",
    "            teams[row['team']] = {'name': row['team'], 'rating': float(row['rating']), 'points': 0}\n",
    "    \n",
    "        simulate_group_stage(games, teams, ternary=True)\n",
    "    \n",
    "        collector = []\n",
    "        for key in teams.keys():\n",
    "            collector.append({\"team\": key, f\"simulation{i+1}\": teams[key]['points']})\n",
    "\n",
    "        temp = pd.DataFrame(collector)\n",
    "        teams_pd = pd.merge(teams_pd, temp)\n",
    "    \n",
    "    sim_cols = [a for a in teams_pd.columns if \"simulation\" in a]\n",
    "    teams_pd[f\"avg_pts_{j+1}\"] = teams_pd[sim_cols].mean(axis=1)\n",
    "    not_sim = [b for b in teams_pd.columns if \"simulation\" not in b]\n",
    "    simulation_result = teams_pd[not_sim]\n",
    "    \n",
    "    return simulation_result"
   ]
  },
  {
   "cell_type": "markdown",
   "metadata": {},
   "source": [
    "### Simulate group stage"
   ]
  },
  {
   "cell_type": "markdown",
   "metadata": {},
   "source": [
    "#### The gist is to read from two files: One defining the match schedule, the other with teams and their relative strengths (given by Elo ratings prior to the start of the event)"
   ]
  },
  {
   "cell_type": "code",
   "execution_count": null,
   "metadata": {},
   "outputs": [],
   "source": [
    "# Reads in the matches and teams as dictionaries and proceeds with that data type\n",
    "n = 100 # How many simulations to run\n",
    "m = 10 # How many simulation results to collect\n",
    "\n",
    "roster_pd = Parallel(n_jobs=5)(delayed(run_group_stage_simulation)(n, j) for j in tqdm(range(m)))\n",
    "\n",
    "for t in tqdm(range(m)):\n",
    "    if t == 0:\n",
    "        roster = pd.merge(roster_pd[t], roster_pd[t+1])\n",
    "    elif t >= 2:\n",
    "        roster = pd.merge(roster, roster_pd[t])\n",
    "    else:\n",
    "        pass"
   ]
  },
  {
   "cell_type": "code",
   "execution_count": null,
   "metadata": {},
   "outputs": [],
   "source": [
    "sim_cols = [i for i in roster.columns if \"avg_pts\" in i]"
   ]
  },
  {
   "cell_type": "code",
   "execution_count": null,
   "metadata": {},
   "outputs": [],
   "source": [
    "roster['avg_sim_pts'] = roster[sim_cols].mean(axis=1)\n",
    "roster['99%CI_low'] = roster[sim_cols].quantile(q=0.005, axis=1)\n",
    "roster['99%CI_high'] = roster[sim_cols].quantile(q=0.995, axis=1)"
   ]
  },
  {
   "cell_type": "code",
   "execution_count": null,
   "metadata": {},
   "outputs": [],
   "source": [
    "not_sim = [j for j in roster.columns if \"avg_pts\" not in j]"
   ]
  },
  {
   "cell_type": "code",
   "execution_count": null,
   "metadata": {},
   "outputs": [],
   "source": [
    "roster[not_sim].sort_values(by=['group', 'avg_sim_pts'], ascending=False)"
   ]
  },
  {
   "cell_type": "markdown",
   "metadata": {},
   "source": [
    "### Simulating knockout stage"
   ]
  },
  {
   "cell_type": "code",
   "execution_count": null,
   "metadata": {},
   "outputs": [],
   "source": [
    "playoff_games_pd = pd.read_csv(\"data/playoff_matches1.csv\")\n",
    "playoff_teams_pd = pd.read_csv(\"data/playoff_roster1.csv\")"
   ]
  },
  {
   "cell_type": "code",
   "execution_count": null,
   "metadata": {},
   "outputs": [],
   "source": [
    "# Now, doing the Monte Carlo simulations\n",
    "n = 10\n",
    "m = 10000\n",
    "fraction_collect = []\n",
    "\n",
    "for k in tqdm(range(m)):\n",
    "    \n",
    "    playoff_results_teams = []\n",
    "    playoff_results_stage = []\n",
    "    \n",
    "    for i in range(n):\n",
    "        overall_result_teams = dict()\n",
    "        overall_result_stage = dict()\n",
    "        games = read_games(\"data/playoff_matches1.csv\")\n",
    "        teams = {}\n",
    "    \n",
    "        for row in [item for item in csv.DictReader(open(\"data/playoff_roster1.csv\"))]:\n",
    "            teams[row['team']] = {'name': row['team'], 'rating': float(row['rating'])}\n",
    "    \n",
    "        simulate_playoffs(games, teams, ternary=True)\n",
    "    \n",
    "        playoff_pd = pd.DataFrame(games)\n",
    "    \n",
    "        # # This is for collecting results of simulations per team\n",
    "        # for key in teams.keys():\n",
    "        #     overall_result_teams[key] = collect_playoff_results(key, playoff_pd)\n",
    "        # playoff_results_teams.append(overall_result_teams)\n",
    "    \n",
    "        # # Now, collecting results from stage-perspective\n",
    "        # overall_result_stage['whole_bracket'] = playoff_pd['advances'].to_list()\n",
    "        # overall_result_stage['Quarterfinals'] = playoff_pd.loc[playoff_pd['stage'] == 'eigths_finals', 'advances'].to_list()\n",
    "        # overall_result_stage['Semifinals'] = playoff_pd.loc[playoff_pd['stage'] == 'quarterfinals', 'advances'].to_list()\n",
    "        # overall_result_stage['Final'] = playoff_pd.loc[playoff_pd['stage'] == 'semifinals', 'advances'].to_list()\n",
    "        # overall_result_stage['third_place_match'] = playoff_pd.loc[playoff_pd['stage'] == 'semifinals', 'loses'].to_list()\n",
    "        overall_result_stage['fourth_place'] = playoff_pd.loc[playoff_pd['stage'] == 'third_place', 'loses'].to_list()[0]\n",
    "        overall_result_stage['third_place'] = playoff_pd.loc[playoff_pd['stage'] == 'third_place', 'advances'].to_list()[0]\n",
    "        overall_result_stage['second_place'] = playoff_pd.loc[playoff_pd['stage'] == 'final', 'loses'].to_list()[0]\n",
    "        overall_result_stage['Champion'] = playoff_pd.loc[playoff_pd['stage'] == 'final', 'advances'].to_list()[0]\n",
    "        # overall_result_stage['match8'] = list(playoff_pd.loc[8, ['home_team', 'away_team']])\n",
    "        # overall_result_stage['match9'] = list(playoff_pd.loc[9, ['home_team', 'away_team']])\n",
    "        # overall_result_stage['match10'] = list(playoff_pd.loc[10, ['home_team', 'away_team']])\n",
    "        # overall_result_stage['match11'] = list(playoff_pd.loc[11, ['home_team', 'away_team']])\n",
    "        # overall_result_stage['match12'] = list(playoff_pd.loc[12, ['home_team', 'away_team']])\n",
    "        # overall_result_stage['match13'] = list(playoff_pd.loc[13, ['home_team', 'away_team']])\n",
    "        # overall_result_stage['match14'] = list(playoff_pd.loc[14, ['home_team', 'away_team']])\n",
    "        # overall_result_stage['match15'] = list(playoff_pd.loc[15, ['home_team', 'away_team']])\n",
    "    \n",
    "        playoff_results_stage.append(overall_result_stage)\n",
    "        \n",
    "    results_stage = pd.DataFrame(playoff_results_stage)\n",
    "    fraction_collect.append(results_stage['Champion'].value_counts(normalize=True)[0])"
   ]
  },
  {
   "cell_type": "code",
   "execution_count": null,
   "metadata": {},
   "outputs": [],
   "source": [
    "np.mean(fraction_collect), np.percentile(fraction_collect, [0.5, 50,  99.5])"
   ]
  },
  {
   "cell_type": "code",
   "execution_count": null,
   "metadata": {},
   "outputs": [],
   "source": [
    "import matplotlib.pyplot as plt\n",
    "plt.hist(fraction_collect)"
   ]
  },
  {
   "cell_type": "code",
   "execution_count": null,
   "metadata": {},
   "outputs": [],
   "source": [
    "results_teams = pd.DataFrame(playoff_results_teams)"
   ]
  },
  {
   "cell_type": "code",
   "execution_count": null,
   "metadata": {},
   "outputs": [],
   "source": [
    "results_teams['Argentina'].value_counts()"
   ]
  },
  {
   "cell_type": "code",
   "execution_count": null,
   "metadata": {},
   "outputs": [],
   "source": [
    "results_stage = pd.DataFrame(playoff_results_stage)"
   ]
  },
  {
   "cell_type": "code",
   "execution_count": null,
   "metadata": {},
   "outputs": [],
   "source": [
    "results_stage['Champion'].value_counts(normalize=True)[0]"
   ]
  },
  {
   "cell_type": "code",
   "execution_count": null,
   "metadata": {},
   "outputs": [],
   "source": [
    "results_stage['Champion']"
   ]
  },
  {
   "cell_type": "markdown",
   "metadata": {},
   "source": [
    "LEARNINGS: I should have put my money where my simulation was, and bet for ARGENTINA!!! My simulations were predicting, narrowly, that Argentina would win the World Cup. However, they did so when I simulated the knockout stage after knowing which teams advanced (also due to the bracket challenge at work consisting of a whole-World-Cup prediction and a knockout-stage-only prediction)  \n",
    "😭"
   ]
  }
 ],
 "metadata": {
  "kernelspec": {
   "display_name": "Python 3 (ipykernel)",
   "language": "python",
   "name": "python3"
  },
  "language_info": {
   "codemirror_mode": {
    "name": "ipython",
    "version": 3
   },
   "file_extension": ".py",
   "mimetype": "text/x-python",
   "name": "python",
   "nbconvert_exporter": "python",
   "pygments_lexer": "ipython3",
   "version": "3.12.2"
  },
  "vscode": {
   "interpreter": {
    "hash": "bf6434c5a1aa7c8e434dd054297a02391e6efb1cc4c519f6d78eae818bb65a96"
   }
  }
 },
 "nbformat": 4,
 "nbformat_minor": 2
}
