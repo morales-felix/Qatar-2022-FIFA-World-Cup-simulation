{
 "cells": [
  {
   "cell_type": "code",
   "execution_count": 1,
   "metadata": {},
   "outputs": [],
   "source": [
    "import numpy as np\n",
    "import pandas as pd\n",
    "import csv\n",
    "import math\n",
    "import random\n",
    "import matplotlib.pyplot as plt\n",
    "from tqdm import tqdm\n",
    "\n",
    "import sys\n",
    "sys.path.append(\"src\")\n",
    "from world_cup_simulator import *"
   ]
  },
  {
   "cell_type": "markdown",
   "metadata": {},
   "source": [
    "### Simulate group stage"
   ]
  },
  {
   "cell_type": "markdown",
   "metadata": {},
   "source": [
    "#### The gist is to read from two files: One defining the match schedule, the other with teams and their relative strengths (given by Elo ratings prior to the start of the event)"
   ]
  },
  {
   "cell_type": "code",
   "execution_count": null,
   "metadata": {},
   "outputs": [],
   "source": [
    "# However, this cell is for illustrative purposes\n",
    "games_pd = pd.read_csv(\"data/matches.csv\")\n",
    "teams_pd = pd.read_csv(\"data/roster1.csv\")"
   ]
  },
  {
   "cell_type": "code",
   "execution_count": null,
   "metadata": {},
   "outputs": [],
   "source": [
    "# Reads in the matches and teams as dictionaries and proceeds with that data type\n",
    "n = 10000 # How many simulations to run\n",
    "\n",
    "for i in tqdm(range(n)):\n",
    "    games = read_games(\"data/matches.csv\")\n",
    "    teams = {}\n",
    "    \n",
    "    for row in [item for item in csv.DictReader(open(\"data/roster1.csv\"))]:\n",
    "        teams[row['team']] = {'name': row['team'], 'rating': float(row['rating']), 'points': float(row['points'])}\n",
    "    \n",
    "    simulate_group_stage(games, teams, ternary=False)\n",
    "    \n",
    "    collector = []\n",
    "    for key in teams.keys():\n",
    "        collector.append({\"team\": key, f\"simulation{i+1}\": teams[key]['points']})\n",
    "\n",
    "    temp = pd.DataFrame(collector)\n",
    "    teams_pd = pd.merge(teams_pd, temp)\n",
    "    \n",
    "#     teams_pd[f\"simulation{i+1}\"] = teams_pd.groupby('group')[f\"simulation{i+1}\"].rank(ascending=False)"
   ]
  },
  {
   "cell_type": "code",
   "execution_count": null,
   "metadata": {},
   "outputs": [],
   "source": [
    "sim_cols = [i for i in teams_pd.columns if \"simulation\" in i]"
   ]
  },
  {
   "cell_type": "code",
   "execution_count": null,
   "metadata": {},
   "outputs": [],
   "source": [
    "teams_pd['average_points'] = teams_pd[sim_cols].mean(axis=1)\n",
    "teams_pd['median_points'] = teams_pd[sim_cols].median(axis=1)\n",
    "teams_pd['standard_deviation'] = teams_pd[sim_cols].std(axis=1)"
   ]
  },
  {
   "cell_type": "code",
   "execution_count": null,
   "metadata": {},
   "outputs": [],
   "source": [
    "not_sim = [j for j in teams_pd.columns if \"simulation\" not in j]"
   ]
  },
  {
   "cell_type": "code",
   "execution_count": null,
   "metadata": {},
   "outputs": [],
   "source": [
    "teams_pd[not_sim].sort_values(by=['group', 'average_points'], ascending=False)"
   ]
  },
  {
   "cell_type": "markdown",
   "metadata": {},
   "source": [
    "### Simulating playoffs"
   ]
  },
  {
   "cell_type": "code",
   "execution_count": 2,
   "metadata": {},
   "outputs": [],
   "source": [
    "playoff_games_pd = pd.read_csv(\"data/playoff_matches.csv\")\n",
    "playoff_teams_pd = pd.read_csv(\"data/playoff_roster.csv\")"
   ]
  },
  {
   "cell_type": "code",
   "execution_count": 3,
   "metadata": {},
   "outputs": [
    {
     "name": "stderr",
     "output_type": "stream",
     "text": [
      "100%|██████████| 10000/10000 [02:52<00:00, 57.93it/s]\n"
     ]
    }
   ],
   "source": [
    "# Now, doing the Monte Carlo simulations\n",
    "n = 10000\n",
    "playoff_results_teams = []\n",
    "playoff_results_stage = []\n",
    "\n",
    "for i in tqdm(range(n)):\n",
    "    overall_result_teams = dict()\n",
    "    overall_result_stage = dict()\n",
    "    games = read_games(\"data/playoff_matches.csv\")\n",
    "    teams = {}\n",
    "    \n",
    "    for row in [item for item in csv.DictReader(open(\"data/playoff_roster.csv\"))]:\n",
    "        teams[row['team']] = {'name': row['team'], 'rating': float(row['rating'])}\n",
    "    \n",
    "    simulate_playoffs(games, teams, ternary=True)\n",
    "    \n",
    "    playoff_pd = pd.DataFrame(games)\n",
    "    \n",
    "    # This is for collecting results of simulations per team\n",
    "    for key in teams.keys():\n",
    "        overall_result_teams[key] = collect_playoff_results(key, playoff_pd)\n",
    "    playoff_results_teams.append(overall_result_teams)\n",
    "    \n",
    "    # Now, collecting results from stage-perspective\n",
    "    overall_result_stage['whole_bracket'] = playoff_pd['advances'].to_list()\n",
    "    overall_result_stage['Quarterfinals'] = playoff_pd.loc[playoff_pd['stage'] == 'eigths_finals', 'advances'].to_list()\n",
    "    overall_result_stage['Semifinals'] = playoff_pd.loc[playoff_pd['stage'] == 'quarterfinals', 'advances'].to_list()\n",
    "    overall_result_stage['Final'] = playoff_pd.loc[playoff_pd['stage'] == 'semifinals', 'advances'].to_list()\n",
    "    overall_result_stage['third_place_match'] = playoff_pd.loc[playoff_pd['stage'] == 'semifinals', 'loses'].to_list()\n",
    "    overall_result_stage['fourth_place'] = playoff_pd.loc[playoff_pd['stage'] == 'third_place', 'loses'].to_list()\n",
    "    overall_result_stage['third_place'] = playoff_pd.loc[playoff_pd['stage'] == 'third_place', 'advances'].to_list()\n",
    "    overall_result_stage['second_place'] = playoff_pd.loc[playoff_pd['stage'] == 'final', 'loses'].to_list()\n",
    "    overall_result_stage['Champion'] = playoff_pd.loc[playoff_pd['stage'] == 'final', 'advances'].to_list()\n",
    "    overall_result_stage['match8'] = list(playoff_pd.loc[8, ['home_team', 'away_team']])\n",
    "    overall_result_stage['match9'] = list(playoff_pd.loc[9, ['home_team', 'away_team']])\n",
    "    overall_result_stage['match10'] = list(playoff_pd.loc[10, ['home_team', 'away_team']])\n",
    "    overall_result_stage['match11'] = list(playoff_pd.loc[11, ['home_team', 'away_team']])\n",
    "    overall_result_stage['match12'] = list(playoff_pd.loc[12, ['home_team', 'away_team']])\n",
    "    overall_result_stage['match13'] = list(playoff_pd.loc[13, ['home_team', 'away_team']])\n",
    "    overall_result_stage['match14'] = list(playoff_pd.loc[14, ['home_team', 'away_team']])\n",
    "    overall_result_stage['match15'] = list(playoff_pd.loc[15, ['home_team', 'away_team']])\n",
    "    \n",
    "    playoff_results_stage.append(overall_result_stage)"
   ]
  },
  {
   "cell_type": "code",
   "execution_count": 4,
   "metadata": {},
   "outputs": [],
   "source": [
    "results_teams = pd.DataFrame(playoff_results_teams)"
   ]
  },
  {
   "cell_type": "code",
   "execution_count": 24,
   "metadata": {},
   "outputs": [
    {
     "data": {
      "text/plain": [
       "Quarterfinals    3570\n",
       "Round_of_16      2576\n",
       "Second_place     1315\n",
       "Fourth_place     1012\n",
       "Champion          807\n",
       "Third_place       720\n",
       "Name: France, dtype: int64"
      ]
     },
     "execution_count": 24,
     "metadata": {},
     "output_type": "execute_result"
    }
   ],
   "source": [
    "results_teams['France'].value_counts()"
   ]
  },
  {
   "cell_type": "code",
   "execution_count": 6,
   "metadata": {},
   "outputs": [],
   "source": [
    "results_stage = pd.DataFrame(playoff_results_stage)"
   ]
  },
  {
   "cell_type": "code",
   "execution_count": 23,
   "metadata": {},
   "outputs": [
    {
     "data": {
      "text/plain": [
       "[Croatia, Brazil]         4868\n",
       "[Japan, Brazil]           4252\n",
       "[Croatia, South Korea]     469\n",
       "[Japan, South Korea]       411\n",
       "Name: match9, dtype: int64"
      ]
     },
     "execution_count": 23,
     "metadata": {},
     "output_type": "execute_result"
    }
   ],
   "source": [
    "results_stage['match9'].value_counts()"
   ]
  },
  {
   "cell_type": "code",
   "execution_count": null,
   "metadata": {},
   "outputs": [],
   "source": []
  }
 ],
 "metadata": {
  "kernelspec": {
   "display_name": "Python 3 (ipykernel)",
   "language": "python",
   "name": "python3"
  },
  "language_info": {
   "codemirror_mode": {
    "name": "ipython",
    "version": 3
   },
   "file_extension": ".py",
   "mimetype": "text/x-python",
   "name": "python",
   "nbconvert_exporter": "python",
   "pygments_lexer": "ipython3",
   "version": "3.9.12"
  },
  "vscode": {
   "interpreter": {
    "hash": "bf6434c5a1aa7c8e434dd054297a02391e6efb1cc4c519f6d78eae818bb65a96"
   }
  }
 },
 "nbformat": 4,
 "nbformat_minor": 2
}
