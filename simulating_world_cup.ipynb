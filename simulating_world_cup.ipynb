{
 "cells": [
  {
   "cell_type": "code",
   "execution_count": 7,
   "metadata": {},
   "outputs": [],
   "source": [
    "import numpy as np\n",
    "import pandas as pd\n",
    "import csv\n",
    "import math\n",
    "import random\n",
    "import matplotlib.pyplot as plt\n",
    "\n",
    "import sys\n",
    "sys.path.append(\"./src\")\n",
    "from world_cup_simulator import *"
   ]
  },
  {
   "cell_type": "markdown",
   "metadata": {},
   "source": [
    "### Simulate group stage"
   ]
  },
  {
   "cell_type": "markdown",
   "metadata": {},
   "source": [
    "#### The gist is to read from two files: One defining the match schedule, the other with teams and their relative strengths (given by Elo ratings prior to the start of the event)"
   ]
  },
  {
   "cell_type": "code",
   "execution_count": 8,
   "metadata": {},
   "outputs": [],
   "source": [
    "# However, this cell is for illustrative purposes\n",
    "games_pd = pd.read_csv(\"data/matches.csv\")\n",
    "teams_pd = pd.read_csv(\"data/roster.csv\")"
   ]
  },
  {
   "cell_type": "code",
   "execution_count": 9,
   "metadata": {},
   "outputs": [
    {
     "ename": "NameError",
     "evalue": "name 'simulate_game' is not defined",
     "output_type": "error",
     "traceback": [
      "\u001b[1;31m---------------------------------------------------------------------------\u001b[0m",
      "\u001b[1;31mNameError\u001b[0m                                 Traceback (most recent call last)",
      "\u001b[1;32mc:\\Users\\felix\\OneDrive\\Documentos\\Qatar_2022_world_cup_simulation\\simulating_world_cup.ipynb Cell 5\u001b[0m in \u001b[0;36m<cell line: 4>\u001b[1;34m()\u001b[0m\n\u001b[0;32m      <a href='vscode-notebook-cell:/c%3A/Users/felix/OneDrive/Documentos/Qatar_2022_world_cup_simulation/simulating_world_cup.ipynb#W3sZmlsZQ%3D%3D?line=7'>8</a>\u001b[0m \u001b[39mfor\u001b[39;00m row \u001b[39min\u001b[39;00m [item \u001b[39mfor\u001b[39;00m item \u001b[39min\u001b[39;00m csv\u001b[39m.\u001b[39mDictReader(\u001b[39mopen\u001b[39m(\u001b[39m\"\u001b[39m\u001b[39mdata/roster.csv\u001b[39m\u001b[39m\"\u001b[39m))]:\n\u001b[0;32m      <a href='vscode-notebook-cell:/c%3A/Users/felix/OneDrive/Documentos/Qatar_2022_world_cup_simulation/simulating_world_cup.ipynb#W3sZmlsZQ%3D%3D?line=8'>9</a>\u001b[0m     teams[row[\u001b[39m'\u001b[39m\u001b[39mteam\u001b[39m\u001b[39m'\u001b[39m]] \u001b[39m=\u001b[39m {\u001b[39m'\u001b[39m\u001b[39mname\u001b[39m\u001b[39m'\u001b[39m: row[\u001b[39m'\u001b[39m\u001b[39mteam\u001b[39m\u001b[39m'\u001b[39m], \u001b[39m'\u001b[39m\u001b[39mrating\u001b[39m\u001b[39m'\u001b[39m: \u001b[39mfloat\u001b[39m(row[\u001b[39m'\u001b[39m\u001b[39mrating\u001b[39m\u001b[39m'\u001b[39m]), \u001b[39m'\u001b[39m\u001b[39mpoints\u001b[39m\u001b[39m'\u001b[39m: \u001b[39m0\u001b[39m}\n\u001b[1;32m---> <a href='vscode-notebook-cell:/c%3A/Users/felix/OneDrive/Documentos/Qatar_2022_world_cup_simulation/simulating_world_cup.ipynb#W3sZmlsZQ%3D%3D?line=10'>11</a>\u001b[0m simulate_group_stage(games, teams, ternary\u001b[39m=\u001b[39;49m\u001b[39mFalse\u001b[39;49;00m)\n\u001b[0;32m     <a href='vscode-notebook-cell:/c%3A/Users/felix/OneDrive/Documentos/Qatar_2022_world_cup_simulation/simulating_world_cup.ipynb#W3sZmlsZQ%3D%3D?line=12'>13</a>\u001b[0m \u001b[39mfor\u001b[39;00m key \u001b[39min\u001b[39;00m teams\u001b[39m.\u001b[39mkeys():\n\u001b[0;32m     <a href='vscode-notebook-cell:/c%3A/Users/felix/OneDrive/Documentos/Qatar_2022_world_cup_simulation/simulating_world_cup.ipynb#W3sZmlsZQ%3D%3D?line=13'>14</a>\u001b[0m     f \u001b[39m=\u001b[39m teams_pd[\u001b[39m'\u001b[39m\u001b[39mteam\u001b[39m\u001b[39m'\u001b[39m] \u001b[39m==\u001b[39m key\n",
      "File \u001b[1;32mc:\\Users\\felix\\OneDrive\\Documentos\\Qatar_2022_world_cup_simulation\\./src\\world_cup_simulator.py:141\u001b[0m, in \u001b[0;36msimulate_group_stage\u001b[1;34m(games, teams, ternary)\u001b[0m\n\u001b[0;32m    138\u001b[0m \u001b[39m# If game was played, maintain team Elo ratings\u001b[39;00m\n\u001b[0;32m    139\u001b[0m \u001b[39mif\u001b[39;00m game[\u001b[39m'\u001b[39m\u001b[39mresult_home\u001b[39m\u001b[39m'\u001b[39m] \u001b[39m==\u001b[39m \u001b[39m\"\u001b[39m\u001b[39m\"\u001b[39m:\n\u001b[1;32m--> 141\u001b[0m     game[\u001b[39m'\u001b[39m\u001b[39mresult_home\u001b[39m\u001b[39m'\u001b[39m] \u001b[39m=\u001b[39m simulate_game(game, ternary)\n\u001b[0;32m    143\u001b[0m     \u001b[39m# Elo shift based on K\u001b[39;00m\n\u001b[0;32m    144\u001b[0m     shift \u001b[39m=\u001b[39m K\u001b[39m*\u001b[39m(game[\u001b[39m'\u001b[39m\u001b[39mresult_home\u001b[39m\u001b[39m'\u001b[39m] \u001b[39m-\u001b[39m game[\u001b[39m'\u001b[39m\u001b[39melo_prob_home\u001b[39m\u001b[39m'\u001b[39m])\n",
      "\u001b[1;31mNameError\u001b[0m: name 'simulate_game' is not defined"
     ]
    }
   ],
   "source": [
    "# Reads in the matches and teams as dictionaries and proceeds with that data type\n",
    "n = 1   # How many simulations to run\n",
    "\n",
    "for i in range(n):\n",
    "    games = read_games(\"data/matches.csv\")\n",
    "    teams = {}\n",
    "    \n",
    "    for row in [item for item in csv.DictReader(open(\"data/roster.csv\"))]:\n",
    "        teams[row['team']] = {'name': row['team'], 'rating': float(row['rating']), 'points': 0}\n",
    "    \n",
    "    simulate_group_stage(games, teams, ternary=False)\n",
    "    \n",
    "    for key in teams.keys():\n",
    "        f = teams_pd['team'] == key\n",
    "        teams_pd.loc[f, f\"simulation{i+1}\"] = teams[key]['points']\n",
    "    \n",
    "    teams_pd[f\"simulation{i+1}\"] = teams_pd.groupby('group')[f\"simulation{i+1}\"].rank(ascending=False)"
   ]
  },
  {
   "cell_type": "code",
   "execution_count": null,
   "metadata": {},
   "outputs": [],
   "source": [
    "sim_cols = [i for i in teams_pd.columns if \"simulation\" in i]"
   ]
  },
  {
   "cell_type": "code",
   "execution_count": null,
   "metadata": {},
   "outputs": [],
   "source": [
    "teams_pd['avg_pos'] = teams_pd[sim_cols].mean(axis=1)\n",
    "teams_pd['median_pos'] = teams_pd[sim_cols].median(axis=1)\n",
    "teams_pd['std_pos'] = teams_pd[sim_cols].std(axis=1)"
   ]
  },
  {
   "cell_type": "code",
   "execution_count": null,
   "metadata": {},
   "outputs": [],
   "source": [
    "not_sim = [j for j in teams_pd.columns if \"simulation\" not in j]"
   ]
  },
  {
   "cell_type": "code",
   "execution_count": null,
   "metadata": {},
   "outputs": [],
   "source": [
    "teams_pd[not_sim].sort_values(by=['group', 'avg_pos'])"
   ]
  },
  {
   "cell_type": "markdown",
   "metadata": {},
   "source": [
    "### Simulating playoffs"
   ]
  },
  {
   "cell_type": "code",
   "execution_count": null,
   "metadata": {},
   "outputs": [],
   "source": [
    "playoff_games_pd = pd.read_csv(\"playoff_matches.csv\")\n",
    "playoff_teams_pd = pd.read_csv(\"playoff_roster.csv\")"
   ]
  },
  {
   "cell_type": "code",
   "execution_count": null,
   "metadata": {},
   "outputs": [],
   "source": [
    "# Now, doing the Monte Carlo simulations\n",
    "n = 10000\n",
    "playoff_results_teams = []\n",
    "playoff_results_stage = []\n",
    "\n",
    "for i in range(n):\n",
    "    overall_result_teams = dict()\n",
    "    overall_result_stage = dict()\n",
    "    games = read_games(\"playoff_matches.csv\")\n",
    "    teams = {}\n",
    "    \n",
    "    for row in [item for item in csv.DictReader(open(\"playoff_roster.csv\"))]:\n",
    "        teams[row['team']] = {'name': row['team'], 'rating': float(row['rating'])}\n",
    "    \n",
    "    simulate_playoffs(games, teams, ternary=True)\n",
    "    \n",
    "    playoff_pd = pd.DataFrame(games)\n",
    "    \n",
    "    # This is for collecting results of simulations per team\n",
    "    for key in teams.keys():\n",
    "        overall_result_teams[key] = collect_playoff_results(key, playoff_pd)\n",
    "    playoff_results_teams.append(overall_result_teams)\n",
    "    \n",
    "    # Now, collecting results from stage-perspective\n",
    "    overall_result_stage['Quarterfinals'] = playoff_pd.loc[playoff_pd['stage'] == 'eigths_finals', 'advances'].to_list()\n",
    "    overall_result_stage['Semifinals'] = playoff_pd.loc[playoff_pd['stage'] == 'quarterfinals', 'advances'].to_list() + [None]*4\n",
    "    overall_result_stage['Final'] = playoff_pd.loc[playoff_pd['stage'] == 'semifinals', 'advances'].to_list() + [None]*6\n",
    "    overall_result_stage['third_place_match'] = playoff_pd.loc[playoff_pd['stage'] == 'semifinals', 'loses'].to_list() + [None]*6\n",
    "    overall_result_stage['fourth_place'] = playoff_pd.loc[playoff_pd['stage'] == 'third_place', 'loses'].to_list() + [None]*7\n",
    "    overall_result_stage['third_place'] = playoff_pd.loc[playoff_pd['stage'] == 'third_place', 'advances'].to_list() + [None]*7\n",
    "    overall_result_stage['second_place'] = playoff_pd.loc[playoff_pd['stage'] == 'final', 'loses'].to_list() + [None]*7\n",
    "    overall_result_stage['Champion'] = playoff_pd.loc[playoff_pd['stage'] == 'final', 'advances'].to_list() + [None]*7\n",
    "    \n",
    "    playoff_results_stage.append(overall_result_stage)"
   ]
  },
  {
   "cell_type": "code",
   "execution_count": null,
   "metadata": {},
   "outputs": [],
   "source": [
    "results_teams = pd.DataFrame(playoff_results_teams)"
   ]
  },
  {
   "cell_type": "code",
   "execution_count": null,
   "metadata": {},
   "outputs": [],
   "source": [
    "results_teams['Brazil'].value_counts(normalize=True)"
   ]
  },
  {
   "cell_type": "code",
   "execution_count": null,
   "metadata": {},
   "outputs": [],
   "source": [
    "results_stage = pd.DataFrame(playoff_results_stage)"
   ]
  },
  {
   "cell_type": "code",
   "execution_count": null,
   "metadata": {},
   "outputs": [],
   "source": [
    "results_stage['Quarterfinals'].value_counts(normalize=True)"
   ]
  }
 ],
 "metadata": {
  "kernelspec": {
   "display_name": "Python 3.9.12 ('base')",
   "language": "python",
   "name": "python3"
  },
  "language_info": {
   "codemirror_mode": {
    "name": "ipython",
    "version": 3
   },
   "file_extension": ".py",
   "mimetype": "text/x-python",
   "name": "python",
   "nbconvert_exporter": "python",
   "pygments_lexer": "ipython3",
   "version": "3.9.12"
  },
  "vscode": {
   "interpreter": {
    "hash": "bf6434c5a1aa7c8e434dd054297a02391e6efb1cc4c519f6d78eae818bb65a96"
   }
  }
 },
 "nbformat": 4,
 "nbformat_minor": 2
}
