{
 "cells": [
  {
   "cell_type": "code",
   "execution_count": 1,
   "metadata": {},
   "outputs": [],
   "source": [
    "import numpy as np\n",
    "import pandas as pd\n",
    "import csv\n",
    "import math\n",
    "import random\n",
    "import matplotlib.pyplot as plt\n",
    "from world_cup_simulator import *"
   ]
  },
  {
   "cell_type": "markdown",
   "metadata": {},
   "source": [
    "### Simulate group stage"
   ]
  },
  {
   "cell_type": "code",
   "execution_count": null,
   "metadata": {},
   "outputs": [],
   "source": [
    "games_pd = pd.read_csv(\"matches.csv\")\n",
    "teams_pd = pd.read_csv(\"roster.csv\")"
   ]
  },
  {
   "cell_type": "code",
   "execution_count": null,
   "metadata": {},
   "outputs": [],
   "source": [
    "# Now, doing the Monte Carlo simulations\n",
    "n = 1\n",
    "\n",
    "for i in range(n):\n",
    "    games = read_games(\"matches.csv\")\n",
    "    break\n",
    "    teams = {}\n",
    "    \n",
    "    for row in [item for item in csv.DictReader(open(\"team_roster.csv\"))]:\n",
    "        teams[row['team']] = {'name': row['team'], 'rating': float(row['rating']), 'points': 0}\n",
    "    \n",
    "    simulate_group_stage(games, teams, ternary=False)\n",
    "    \n",
    "    for key in teams.keys():\n",
    "        f = teams_pd['team'] == key\n",
    "        teams_pd.loc[f, f\"simulation{i+1}\"] = teams[key]['points']\n",
    "    \n",
    "    teams_pd[f\"simulation{i+1}\"] = teams_pd.groupby('group')[f\"simulation{i+1}\"].rank(ascending=False)"
   ]
  },
  {
   "cell_type": "code",
   "execution_count": null,
   "metadata": {},
   "outputs": [],
   "source": [
    "sim_cols = [i for i in teams_pd.columns if \"simulation\" in i]"
   ]
  },
  {
   "cell_type": "code",
   "execution_count": null,
   "metadata": {},
   "outputs": [],
   "source": [
    "teams_pd['avg_pos'] = teams_pd[sim_cols].mean(axis=1)\n",
    "teams_pd['median_pos'] = teams_pd[sim_cols].median(axis=1)\n",
    "teams_pd['std_pos'] = teams_pd[sim_cols].std(axis=1)"
   ]
  },
  {
   "cell_type": "code",
   "execution_count": null,
   "metadata": {},
   "outputs": [],
   "source": [
    "not_sim = [j for j in teams_pd.columns if \"simulation\" not in j]"
   ]
  },
  {
   "cell_type": "code",
   "execution_count": null,
   "metadata": {},
   "outputs": [],
   "source": [
    "teams_pd[not_sim].sort_values(by=['group', 'avg_pos'])"
   ]
  },
  {
   "cell_type": "markdown",
   "metadata": {},
   "source": [
    "### Simulating playoffs"
   ]
  },
  {
   "cell_type": "code",
   "execution_count": 2,
   "metadata": {},
   "outputs": [],
   "source": [
    "playoff_games_pd = pd.read_csv(\"playoff_matches.csv\")\n",
    "playoff_teams_pd = pd.read_csv(\"playoff_roster.csv\")"
   ]
  },
  {
   "cell_type": "code",
   "execution_count": 3,
   "metadata": {},
   "outputs": [],
   "source": [
    "# Now, doing the Monte Carlo simulations\n",
    "n = 10000\n",
    "playoff_results_teams = []\n",
    "playoff_results_stage = []\n",
    "\n",
    "for i in range(n):\n",
    "    overall_result_teams = dict()\n",
    "    overall_result_stage = dict()\n",
    "    games = read_games(\"playoff_matches.csv\")\n",
    "    teams = {}\n",
    "    \n",
    "    for row in [item for item in csv.DictReader(open(\"playoff_roster.csv\"))]:\n",
    "        teams[row['team']] = {'name': row['team'], 'rating': float(row['rating'])}\n",
    "    \n",
    "    simulate_playoffs(games, teams, ternary=True)\n",
    "    \n",
    "    playoff_pd = pd.DataFrame(games)\n",
    "    \n",
    "    # This is for collecting results of simulations per team\n",
    "    for key in teams.keys():\n",
    "        overall_result_teams[key] = collect_playoff_results(key, playoff_pd)\n",
    "    playoff_results_teams.append(overall_result_teams)\n",
    "    \n",
    "    # Now, collecting results from stage-perspective\n",
    "    overall_result_stage['Quarterfinals'] = playoff_pd.loc[playoff_pd['stage'] == 'eigths_finals', 'advances'].to_list()\n",
    "    overall_result_stage['Semifinals'] = playoff_pd.loc[playoff_pd['stage'] == 'quarterfinals', 'advances'].to_list() + [None]*4\n",
    "    overall_result_stage['Final'] = playoff_pd.loc[playoff_pd['stage'] == 'semifinals', 'advances'].to_list() + [None]*6\n",
    "    overall_result_stage['third_place_match'] = playoff_pd.loc[playoff_pd['stage'] == 'semifinals', 'loses'].to_list() + [None]*6\n",
    "    overall_result_stage['fourth_place'] = playoff_pd.loc[playoff_pd['stage'] == 'third_place', 'loses'].to_list() + [None]*7\n",
    "    overall_result_stage['third_place'] = playoff_pd.loc[playoff_pd['stage'] == 'third_place', 'advances'].to_list() + [None]*7\n",
    "    overall_result_stage['second_place'] = playoff_pd.loc[playoff_pd['stage'] == 'final', 'loses'].to_list() + [None]*7\n",
    "    overall_result_stage['Champion'] = playoff_pd.loc[playoff_pd['stage'] == 'final', 'advances'].to_list() + [None]*7\n",
    "    \n",
    "    playoff_results_stage.append(overall_result_stage)"
   ]
  },
  {
   "cell_type": "code",
   "execution_count": 4,
   "metadata": {},
   "outputs": [],
   "source": [
    "results_teams = pd.DataFrame(playoff_results_teams)"
   ]
  },
  {
   "cell_type": "code",
   "execution_count": 5,
   "metadata": {},
   "outputs": [
    {
     "data": {
      "text/plain": [
       "Quarterfinals    0.3814\n",
       "Round_of_16      0.1754\n",
       "Champion         0.1746\n",
       "Third_place      0.1628\n",
       "Final            0.0573\n",
       "Fourth_place     0.0485\n",
       "Name: Brazil, dtype: float64"
      ]
     },
     "execution_count": 5,
     "metadata": {},
     "output_type": "execute_result"
    }
   ],
   "source": [
    "results_teams['Brazil'].value_counts(normalize=True)"
   ]
  },
  {
   "cell_type": "code",
   "execution_count": 6,
   "metadata": {},
   "outputs": [],
   "source": [
    "results_stage = pd.DataFrame(playoff_results_stage)"
   ]
  },
  {
   "cell_type": "code",
   "execution_count": 10,
   "metadata": {},
   "outputs": [
    {
     "data": {
      "text/plain": [
       "[Netherlands, Argentina, Spain, Brazil, England, Denmark, Belgium, Portugal]           0.0548\n",
       "[Netherlands, Argentina, Spain, Brazil, England, Denmark, Germany, Portugal]           0.0439\n",
       "[Netherlands, Argentina, Spain, Brazil, Ecuador, Denmark, Belgium, Portugal]           0.0330\n",
       "[Netherlands, Argentina, Spain, Brazil, England, Denmark, Belgium, Switzerland]        0.0299\n",
       "[Netherlands, Argentina, Croatia, Brazil, England, Denmark, Belgium, Portugal]         0.0290\n",
       "                                                                                        ...  \n",
       "[United States, France, Croatia, Uruguay, England, Poland, Germany, Switzerland]       0.0001\n",
       "[United States, Argentina, Croatia, Uruguay, Ecuador, Poland, Belgium, Switzerland]    0.0001\n",
       "[United States, France, Spain, Uruguay, England, Poland, Germany, Portugal]            0.0001\n",
       "[United States, Argentina, Croatia, Uruguay, Ecuador, Poland, Belgium, Portugal]       0.0001\n",
       "[United States, France, Croatia, Brazil, Ecuador, Poland, Belgium, Switzerland]        0.0001\n",
       "Name: Quarterfinals, Length: 249, dtype: float64"
      ]
     },
     "execution_count": 10,
     "metadata": {},
     "output_type": "execute_result"
    }
   ],
   "source": [
    "results_stage['Quarterfinals'].value_counts(normalize=True)"
   ]
  }
 ],
 "metadata": {
  "kernelspec": {
   "display_name": "Python 3.9.12 ('base')",
   "language": "python",
   "name": "python3"
  },
  "language_info": {
   "codemirror_mode": {
    "name": "ipython",
    "version": 3
   },
   "file_extension": ".py",
   "mimetype": "text/x-python",
   "name": "python",
   "nbconvert_exporter": "python",
   "pygments_lexer": "ipython3",
   "version": "3.9.12"
  },
  "vscode": {
   "interpreter": {
    "hash": "bf6434c5a1aa7c8e434dd054297a02391e6efb1cc4c519f6d78eae818bb65a96"
   }
  }
 },
 "nbformat": 4,
 "nbformat_minor": 2
}
